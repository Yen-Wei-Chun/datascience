{
 "cells": [
  {
   "cell_type": "code",
   "execution_count": 2,
   "metadata": {},
   "outputs": [
    {
     "name": "stdout",
     "output_type": "stream",
     "text": [
      "{'M': 39, 'F': 55}\n",
      "{'M': 46, 'F': 54}\n"
     ]
    }
   ],
   "source": [
    "import pandas as pd\n",
    "from pandas import ExcelWriter\n",
    "from pandas import ExcelFile\n",
    "\n",
    "\n",
    "df_on = pd.read_excel(\"Client_data.xlsx\", sheetname=\"OnshoreData\")\n",
    "df_off = pd.read_excel(\"Client_data.xlsx\", sheetname=\"offshore_Data\")\n",
    "\n",
    "def counting(a_data):\n",
    "    a = {}\n",
    "    for line in a_data:\n",
    "        if line not in a:\n",
    "            a[line] = 0\n",
    "        a[line] += 1\n",
    "    return a\n",
    "\n",
    "address1 = df_on['address1_line1'].apply(lambda x: x[:2])\n",
    "address2 = df_off['address1_composite'].apply(lambda x: x[:2])\n",
    "add_cnt1 = counting(address1)\n",
    "add_cnt2 = counting(address2)\n",
    "\n",
    "gender1 = df_on['gendercode']\n",
    "gender2 = df_off['gendercode']\n",
    "gen_cnt1 = counting(gender1)\n",
    "gen_cnt2 = counting(gender2)\n",
    "\n",
    "\n",
    "#過濾資料太少的地區\n",
    "to_del = []\n",
    "for keys in add_cnt2:\n",
    "    if add_cnt2[keys] == 1:\n",
    "        to_del.append(keys)\n",
    "\n",
    "for wrd in to_del:\n",
    "    if add_cnt2.get(wrd): add_cnt2.pop(wrd) \n",
    "\n",
    "# 刪掉Ｘ\n",
    "if gen_cnt1.get('X'): gen_cnt1.pop('X')\n"
   ]
  },
  {
   "cell_type": "code",
   "execution_count": 25,
   "metadata": {},
   "outputs": [
    {
     "data": {
      "image/png": "[encoded data removed]",
      "text/plain": [
       "<Figure size 432x288 with 1 Axes>"
      ]
     },
     "metadata": {},
     "output_type": "display_data"
    }
   ],
   "source": [
    "%matplotlib inline\n",
    "import matplotlib.pyplot as plt\n",
    "import numpy as np\n",
    "\n",
    "# show Chinese character\n",
    "plt.rcParams['font.sans-serif'] = ['SimHei']\n",
    "plt.rcParams['axes.unicode_minus']=False\n",
    "\n",
    "plt.style.use(\"ggplot\")\n",
    "\n",
    "def barplot(x, y, color =\"\", x_label=\"\", y_label=\"\", title=\"\"): \n",
    "    \n",
    "    plt.bar(x,y, align = 'center')\n",
    "    plt.xlabel(x_label)\n",
    "    plt.ylabel(y_label)\n",
    "    plt.title(title)\n",
    "\n",
    "#barplot(add_cnt1.keys(), add_cnt1.values(), color = \"#71B09B\", x_label = \"地區\", y_label = \"Onshore\", title = \"Onshore X City\")\n",
    "barplot(add_cnt2.keys(), add_cnt2.values(), color = \"#F4E285\", x_label = \"地區\", y_label = \"Offshore\", title = \"Offshore X City\")\n",
    "\n",
    "# figure?"
   ]
  },
  {
   "cell_type": "code",
   "execution_count": null,
   "metadata": {},
   "outputs": [],
   "source": [
    "# 性別差異 Onshore / Offshore\n",
    "\n",
    "def groupedbarplot(x_data, y_data, colors, label = \"\"):\n",
    "    \n",
    "    for i in \n",
    "    plt.bar(x_data, y_data, colors = colors[i],  )\n"
   ]
  }
 ],
 "metadata": {
  "kernelspec": {
   "display_name": "Python 3",
   "language": "python",
   "name": "python3"
  },
  "language_info": {
   "codemirror_mode": {
    "name": "ipython",
    "version": 3
   },
   "file_extension": ".py",
   "mimetype": "text/x-python",
   "name": "python",
   "nbconvert_exporter": "python",
   "pygments_lexer": "ipython3",
   "version": "3.6.1"
  }
 },
 "nbformat": 4,
 "nbformat_minor": 2
}
