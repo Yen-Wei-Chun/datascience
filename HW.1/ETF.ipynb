{
 "cells": [
  {
   "cell_type": "markdown",
   "metadata": {},
   "source": [
    "最近歐洲經濟疲弱，TLTRO（定向長期再融資）的預計推行，堅定歐洲央行的鴿派立場。再加上英國脫歐遲遲未定、義大利債務問題，增加歐洲經濟區的不穩定性，因此想探討近三年來歐洲經濟的情況，以歐洲貨幣型ETF做進一步的分析：\n",
    "1. 分析價格走勢及市場熱絡程度（以成交量衡量）\n",
    "2. 分析報酬及風險（使用歷史資料）\n",
    "\n",
    "這裡選擇三檔ETF，分別是： FXB(Invesco英鎊指數基金) ULE(ProShares兩倍做多歐元) EUO(ProShares兩倍看空歐元ETF)"
   ]
  },
  {
   "cell_type": "code",
   "execution_count": 1,
   "metadata": {},
   "outputs": [
    {
     "data": {
      "text/html": [
       "<div>\n",
       "<style scoped>\n",
       "    .dataframe tbody tr th:only-of-type {\n",
       "        vertical-align: middle;\n",
       "    }\n",
       "\n",
       "    .dataframe tbody tr th {\n",
       "        vertical-align: top;\n",
       "    }\n",
       "\n",
       "    .dataframe thead th {\n",
       "        text-align: right;\n",
       "    }\n",
       "</style>\n",
       "<table border=\"1\" class=\"dataframe\">\n",
       "  <thead>\n",
       "    <tr style=\"text-align: right;\">\n",
       "      <th></th>\n",
       "      <th>High</th>\n",
       "      <th>Low</th>\n",
       "      <th>Open</th>\n",
       "      <th>Close</th>\n",
       "      <th>Volume</th>\n",
       "      <th>Adj Close</th>\n",
       "    </tr>\n",
       "    <tr>\n",
       "      <th>Date</th>\n",
       "      <th></th>\n",
       "      <th></th>\n",
       "      <th></th>\n",
       "      <th></th>\n",
       "      <th></th>\n",
       "      <th></th>\n",
       "    </tr>\n",
       "  </thead>\n",
       "  <tbody>\n",
       "    <tr>\n",
       "      <th>2016-05-31</th>\n",
       "      <td>36.119999</td>\n",
       "      <td>36.119999</td>\n",
       "      <td>36.119999</td>\n",
       "      <td>36.119999</td>\n",
       "      <td>0.0</td>\n",
       "      <td>31.071228</td>\n",
       "    </tr>\n",
       "    <tr>\n",
       "      <th>2016-06-01</th>\n",
       "      <td>35.950001</td>\n",
       "      <td>35.950001</td>\n",
       "      <td>35.950001</td>\n",
       "      <td>35.950001</td>\n",
       "      <td>0.0</td>\n",
       "      <td>30.924992</td>\n",
       "    </tr>\n",
       "    <tr>\n",
       "      <th>2016-06-02</th>\n",
       "      <td>35.939999</td>\n",
       "      <td>35.939999</td>\n",
       "      <td>35.939999</td>\n",
       "      <td>35.939999</td>\n",
       "      <td>0.0</td>\n",
       "      <td>30.916388</td>\n",
       "    </tr>\n",
       "    <tr>\n",
       "      <th>2016-06-03</th>\n",
       "      <td>36.209999</td>\n",
       "      <td>36.209999</td>\n",
       "      <td>36.209999</td>\n",
       "      <td>36.209999</td>\n",
       "      <td>0.0</td>\n",
       "      <td>31.148647</td>\n",
       "    </tr>\n",
       "    <tr>\n",
       "      <th>2016-06-06</th>\n",
       "      <td>36.290001</td>\n",
       "      <td>36.290001</td>\n",
       "      <td>36.290001</td>\n",
       "      <td>36.290001</td>\n",
       "      <td>0.0</td>\n",
       "      <td>31.217466</td>\n",
       "    </tr>\n",
       "  </tbody>\n",
       "</table>\n",
       "</div>"
      ],
      "text/plain": [
       "                 High        Low       Open      Close  Volume  Adj Close\n",
       "Date                                                                     \n",
       "2016-05-31  36.119999  36.119999  36.119999  36.119999     0.0  31.071228\n",
       "2016-06-01  35.950001  35.950001  35.950001  35.950001     0.0  30.924992\n",
       "2016-06-02  35.939999  35.939999  35.939999  35.939999     0.0  30.916388\n",
       "2016-06-03  36.209999  36.209999  36.209999  36.209999     0.0  31.148647\n",
       "2016-06-06  36.290001  36.290001  36.290001  36.290001     0.0  31.217466"
      ]
     },
     "execution_count": 1,
     "metadata": {},
     "output_type": "execute_result"
    }
   ],
   "source": [
    "import pandas as pd\n",
    "import pandas_datareader.data as web\n",
    "import numpy as np\n",
    "import datetime\n",
    "\n",
    "start = datetime.datetime(2016, 6, 1)\n",
    "end = datetime.datetime(2019, 3, 31)\n",
    "\n",
    "today = '20190331'\n",
    "tckr1 = 'FXB'\n",
    "tckr2 = 'ULE'\n",
    "tckr3 = 'EUO'\n",
    "# ETF data\n",
    "FXB = web.DataReader(tckr1, 'yahoo', start, end)\n",
    "ULE = web.DataReader(tckr2, 'yahoo', start, end)\n",
    "EUO = web.DataReader(tckr3, 'yahoo', start, end)\n",
    "\n",
    "FXB.head()"
   ]
  },
  {
   "cell_type": "code",
   "execution_count": 2,
   "metadata": {},
   "outputs": [],
   "source": [
    "# calculate monthly return & risk\n",
    "def risk_return(df):\n",
    "    data_group = df.groupby(df.index.strftime('%Y %m'))['Close']\n",
    "    mon_risk = data_group.std()\n",
    "    mon_return = data_group.pct_change().asfreq('BM')  #asfreq('BM'):從月初到月終\n",
    "    return mon_risk, mon_return\n",
    "\n",
    "# calculate monthly average risk & return\n",
    "def avg(risk, ret):\n",
    "    avg_risk = risk.mean()\n",
    "    avg_ret = ret.mean()\n",
    "    return avg_risk, avg_ret\n",
    "\n",
    "FXB_avg = avg(risk_return(FXB)[0], risk_return(FXB)[1])\n",
    "ULE_avg = avg(risk_return(ULE)[0], risk_return(ULE)[1])\n",
    "EUO_avg = avg(risk_return(EUO)[0], risk_return(EUO)[1])\n",
    "\n",
    "\n",
    "date = sorted(set(FXB.index.strftime('%Y-%m')))\n",
    "date_time = []\n",
    "for dat in date:\n",
    "    arrange = datetime.datetime.strptime(dat, '%Y-%m')\n",
    "    date_time.append(arrange)"
   ]
  },
  {
   "cell_type": "code",
   "execution_count": 3,
   "metadata": {
    "scrolled": true
   },
   "outputs": [
    {
     "name": "stderr",
     "output_type": "stream",
     "text": [
      "/Library/Frameworks/Python.framework/Versions/3.6/lib/python3.6/site-packages/pandas/plotting/_converter.py:129: FutureWarning: Using an implicitly registered datetime converter for a matplotlib plotting method. The converter was registered by pandas on import. Future versions of pandas will require you to explicitly register matplotlib converters.\n",
      "\n",
      "To register the converters:\n",
      "\t>>> from pandas.plotting import register_matplotlib_converters\n",
      "\t>>> register_matplotlib_converters()\n",
      "  warnings.warn(msg, FutureWarning)\n"
     ]
    },
    {
     "data": {
      "image/png": "[encoded data removed]",
      "text/plain": [
       "<Figure size 864x432 with 6 Axes>"
      ]
     },
     "metadata": {
      "needs_background": "light"
     },
     "output_type": "display_data"
    }
   ],
   "source": [
    "%matplotlib inline\n",
    "import matplotlib.pyplot as plt\n",
    "import matplotlib.dates as mdates\n",
    "\n",
    "fig = plt.figure(figsize=(12, 6))\n",
    "ax1 = plt.subplot(321)\n",
    "ax2 = plt.subplot(323)\n",
    "ax3 = plt.subplot(325)\n",
    "ax4 = plt.subplot(322)\n",
    "ax5 = plt.subplot(324)\n",
    "ax6 = plt.subplot(326)\n",
    "ax1.plot(FXB.index, FXB['Close'], linewidth = 2.0, label = \"FXB\")\n",
    "ax2.plot(ULE.index, ULE['Close'], color = 'red', linewidth = 2.0, label = \"ULE\")\n",
    "ax3.plot(EUO.index, EUO['Close'], color = 'green', linewidth = 2.0, label = \"EUO\")\n",
    "ax4.plot(FXB.index, FXB['Volume'], linewidth = 2.0, label = 'FXB')\n",
    "ax5.plot(ULE.index, ULE['Volume'], color = 'red', linewidth = 2.0, label = 'ULE')\n",
    "ax6.plot(EUO.index, EUO['Volume'], color = 'green', linewidth = 2.0, label = 'EUO' )\n",
    "ax1.legend(loc=\"upper right\")\n",
    "ax2.legend(loc=\"upper right\")\n",
    "ax3.legend(loc=\"upper right\")\n",
    "ax4.legend(loc=\"upper right\")\n",
    "ax5.legend(loc=\"upper right\")\n",
    "ax6.legend(loc=\"upper right\")\n",
    "ax2.set_ylabel(\"Price\")\n",
    "ax5.set_ylabel(\"Volume\")\n",
    "\n",
    "# date format\n",
    "monthFmt = mdates.DateFormatter('%Y-%m')\n",
    "ax3.xaxis.set_major_formatter(monthFmt)\n",
    "\n",
    "# Rotate date labels automatically\n",
    "fig.autofmt_xdate()"
   ]
  },
  {
   "cell_type": "markdown",
   "metadata": {},
   "source": [
    "以上兩組圖（左：價格走勢；右：成交量）可以看出2016/6月英國脫歐公投使英鎊(FXB)大貶，連帶影響做多歐元(ULE)的向下走勢，而與這兩檔ETF反向操作的EUO，價格則上揚，粗略推斷身為歐盟重要會員國、世界第五大經濟體的英國，一舉一動也牽動著整個歐元區的經濟，所以為了簡化，以下將以英國脫歐的動向作為判讀依據。\n",
    "\n",
    "近三年來英鎊及看多歐元的走勢如下：2016/6~2017/3持續半年的貶值，2017/3~2018/4、5緩慢回升後一路下貶至今，參考脫歐時間軸，直到2017/2英國政府才正式公佈脫歐計畫，而後持續了長達一年左右的談判，到2018/3/19達成第一階段共識，這期間FXB及ULE止貶回升，然而在此之後脫歐計畫出現意見分歧，時至今日仍未能達成共識，市場對英國政治的不確定性正反映在持續下跌的FXB、ULE上。\n",
    "\n",
    "以下將針對這三檔ETF的風險及報酬做更進一步的分析："
   ]
  },
  {
   "cell_type": "code",
   "execution_count": 4,
   "metadata": {},
   "outputs": [
    {
     "name": "stdout",
     "output_type": "stream",
     "text": [
      "FXB average risk:  1.3190782827413323\n",
      "ULE average risk:  0.2521925981334193\n",
      "EUO average risk:  0.3771050777299332\n"
     ]
    },
    {
     "data": {
      "image/png": "[encoded data removed]",
      "text/plain": [
       "<Figure size 864x432 with 1 Axes>"
      ]
     },
     "metadata": {
      "needs_background": "light"
     },
     "output_type": "display_data"
    }
   ],
   "source": [
    "fig = plt.figure(figsize = (12, 6))\n",
    "barWidth = 0.25\n",
    "\n",
    "r1 = np.arange(len(date))\n",
    "r2 = [x + barWidth for x in r1]\n",
    "r3 = [x + barWidth for x in r2]\n",
    "\n",
    "plt.bar(r1, risk_return(FXB)[0], width = barWidth, label = 'FXB')\n",
    "plt.bar(r2, risk_return(ULE)[0], color = 'red', width = barWidth, label = 'ULE')\n",
    "plt.bar(r3, risk_return(EUO)[0], color = 'green', width = barWidth, label = 'EUO')\n",
    "\n",
    "plt.ylabel('Risk', fontweight = 'bold', fontsize = 15)\n",
    "plt.xticks([r + barWidth for r in range(len(date))], date) #use date (str) instead of date_time(datetime object)\n",
    "plt.legend()\n",
    "\n",
    "# Rotate date labels automatically\n",
    "fig.autofmt_xdate()\n",
    "\n",
    "print('FXB average risk: ', FXB_avg[0])\n",
    "print('ULE average risk: ', ULE_avg[0])\n",
    "print('EUO average risk: ', EUO_avg[0])"
   ]
  },
  {
   "cell_type": "markdown",
   "metadata": {},
   "source": [
    "從上圖可知，就英鎊ETF、歐元做多ETF和看空歐元ETF的風險而言，以深受脫歐議題所擾的英國，其貨幣ETF風險最大，是其他兩檔ETF的4~5倍；而平均而言，看空歐元高於做多的風險，且兩者在統計上有顯著差異（見下方解釋）。"
   ]
  },
  {
   "cell_type": "markdown",
   "metadata": {},
   "source": [
    "以下針對做多歐元(ULE)和看空歐元(EUO)兩者風險是否有顯著差異做檢定，假設兩者為獨立樣本，在使用Student's t-test之前，須先檢定兩者變異數的同質性：\n",
    "\n",
    "虛無假設：σ(ULE) = σ(EUO)\n",
    "選定顯著水準：α = 5%\n",
    "檢定統計量： F = var_EUO / var_ULE\n",
    "拒絕域：{ F> F α = 5%(34, 34) = 1.77207}\n",
    "結果：拒絕虛無假設，故兩者為異質變異數，須改用Welch's t-test\n",
    "\n",
    "虛無假設：μ(ULE) = μ(EUO)\n",
    "選定顯著水準：α = 5%\n",
    "檢定統計量： t = (EUO_mean - ULE_mean) / √(var_EUO / a + var_ULE / b)\n",
    "拒絕域：{ |T|> T α = 5%(df) = 1.67303}\n",
    "結果：拒絕虛無假設，故兩者均數有顯著差異"
   ]
  },
  {
   "cell_type": "code",
   "execution_count": 5,
   "metadata": {},
   "outputs": [],
   "source": [
    "import math\n",
    "\n",
    "ULE_list = []\n",
    "for data in risk_return(ULE)[0]:\n",
    "    if math.isnan(data) == True:\n",
    "        pass\n",
    "    else:\n",
    "        ULE_list.append(data)\n",
    "\n",
    "EUO_list = []\n",
    "for data in risk_return(EUO)[0]:\n",
    "    if math.isnan(data) == True:\n",
    "        pass\n",
    "    else:\n",
    "        EUO_list.append(data)"
   ]
  },
  {
   "cell_type": "code",
   "execution_count": 6,
   "metadata": {},
   "outputs": [
    {
     "name": "stdout",
     "output_type": "stream",
     "text": [
      "True\n",
      "True\n"
     ]
    }
   ],
   "source": [
    "from scipy import stats\n",
    "\n",
    "a = len(EUO_list)\n",
    "b = len(ULE_list)\n",
    "var_ULE = np.var(ULE_list)\n",
    "var_EUO = np.var(EUO_list)\n",
    "F_value = var_EUO / var_ULE # F(34, 34), (α = 5%) = 1.77207\n",
    "print(F_value > 1.77207) # Reject H0: population var of ULE and EUO is the same >> welch's t-test\n",
    "\n",
    "df = int((var_EUO / a + var_ULE / b) **2 / (1/(a-1) * (var_EUO / a) **2 + 1/(b-1) * (var_ULE / b) **2 )) \n",
    "t = (EUO_avg[0] - ULE_avg[0]) / math.sqrt(var_EUO / a + var_ULE / b) # t(55), (α = 5%) = 1.67303 \n",
    "print(t > 1.67303) # Reject H0"
   ]
  },
  {
   "cell_type": "code",
   "execution_count": 7,
   "metadata": {},
   "outputs": [
    {
     "name": "stdout",
     "output_type": "stream",
     "text": [
      "FXB average return:  0.0012970909441006636\n",
      "ULE average return:  0.001668656526456428\n",
      "EUO average return:  -0.001572687469406386\n"
     ]
    },
    {
     "data": {
      "image/png": "[encoded data removed]",
      "text/plain": [
       "<Figure size 864x432 with 1 Axes>"
      ]
     },
     "metadata": {
      "needs_background": "light"
     },
     "output_type": "display_data"
    }
   ],
   "source": [
    "fig = plt.figure(figsize = (12, 6))\n",
    "barWidth = 0.25\n",
    "\n",
    "r1 = np.arange(len(date))\n",
    "r2 = [x + barWidth for x in r1]\n",
    "r3 = [x + barWidth for x in r2]\n",
    "\n",
    "plt.bar(r1, risk_return(FXB)[1], width = barWidth, label = 'FXB')\n",
    "plt.bar(r2, risk_return(ULE)[1], color = 'red', width = barWidth, label = 'ULE')\n",
    "plt.bar(r3, risk_return(EUO)[1], color = 'green', width = barWidth, label = 'EUO')\n",
    "\n",
    "plt.ylabel('Return', fontweight = 'bold', fontsize = 15)\n",
    "plt.xticks([r + barWidth for r in range(len(date))], date) #use date (str) instead of date_time(datetime object)\n",
    "plt.legend()\n",
    "\n",
    "# Rotate date labels automatically\n",
    "fig.autofmt_xdate()\n",
    "\n",
    "print('FXB average return: ', FXB_avg[1])\n",
    "print('ULE average return: ', ULE_avg[1])\n",
    "print('EUO average return: ', EUO_avg[1])"
   ]
  },
  {
   "cell_type": "markdown",
   "metadata": {},
   "source": [
    "＃2018-03-31 剛好是假日所以沒有資料，使用asfreq('BM')會回傳NaN"
   ]
  },
  {
   "cell_type": "markdown",
   "metadata": {},
   "source": [
    "三年下來三檔ETF的報酬有正有負，平均報酬皆近似於0，不適合長期持有；然而若是進行短線操作，仍有獲利機會，2016/6 ~ 2019/3三十四個月之中，FXB有18個月的報酬超過三年的平均報酬，ULE有15個月，EUO則有17個月，其中FXB獲利機會最大(18>17>15)，而上圖圖表顯示，ULE一旦獲利，將獲得較高的報酬(ULE長條正的值較大)。"
   ]
  },
  {
   "cell_type": "code",
   "execution_count": 8,
   "metadata": {},
   "outputs": [
    {
     "name": "stdout",
     "output_type": "stream",
     "text": [
      "18 15 17\n"
     ]
    }
   ],
   "source": [
    "def ab_return(datalist, average):\n",
    "    cnt = 0\n",
    "    for data in datalist:\n",
    "        if data >= average:\n",
    "            cnt += 1\n",
    "    return cnt\n",
    "\n",
    "F_abreturn = ab_return(risk_return(FXB)[1], FXB_avg[1])\n",
    "U_abreturn = ab_return(risk_return(ULE)[1], ULE_avg[1])\n",
    "E_abreturn = ab_return(risk_return(EUO)[1], EUO_avg[1])\n",
    "\n",
    "print(F_abreturn, U_abreturn, E_abreturn)"
   ]
  },
  {
   "cell_type": "markdown",
   "metadata": {},
   "source": [
    "接著透過BBC的網站分析新聞對ETF交易成交量和價格的影響"
   ]
  },
  {
   "cell_type": "code",
   "execution_count": 9,
   "metadata": {},
   "outputs": [],
   "source": [
    "from selenium import webdriver\n",
    "import time\n",
    "from bs4 import BeautifulSoup\n",
    "import ssl\n",
    "import datetime"
   ]
  },
  {
   "cell_type": "code",
   "execution_count": 10,
   "metadata": {},
   "outputs": [],
   "source": [
    "driver = webdriver.Chrome(\"/Library/Frameworks/Python.framework/Versions/3.6/chromedriver\")\n",
    "#driver.get(\"https://www.bbc.com/news/topics/cwlw3xz0lvvt/brexit\")\n",
    "driver.get(\"https://www.bbc.co.uk/search?q=Brexit\")\n",
    "\n",
    "\n",
    "more_path = '//*[@id = \"search-content\"]/nav[1]/a' # find click button path\n",
    "context = ssl._create_unverified_context()\n",
    "\n",
    "\n",
    "for i in range(35):\n",
    "    driver.execute_script(\"window.scrollTo(0, document.body.scrollHeight);\")\n",
    "    driver.find_element_by_xpath(more_path).click()\n",
    "    driver.implicitly_wait(5)\n",
    "pageSource = driver.page_source\n",
    "bsObj = BeautifulSoup(pageSource)"
   ]
  },
  {
   "cell_type": "code",
   "execution_count": 11,
   "metadata": {},
   "outputs": [
    {
     "name": "stdout",
     "output_type": "stream",
     "text": [
      "277\n"
     ]
    }
   ],
   "source": [
    "try:\n",
    "    articles_v = bsObj.find_all(\"article\", {\"class\" : \"has_image media-video\"})\n",
    "    articles_t = bsObj.find_all(\"article\", {\"class\" : \"has_image media-text\"})\n",
    "except:\n",
    "    pass\n",
    "\n",
    "def process_data(obj):\n",
    "    news_list = []\n",
    "    for news in obj:\n",
    "        try:\n",
    "            date = news.find('time')['datetime'][:10]\n",
    "            title = news.find(\"h1\", {\"itemprop\" : \"headline\"}).get_text()\n",
    "            summary = news.find(\"p\", {\"class\" : \"summary long\"}).get_text()\n",
    "            news_list.append({\n",
    "                'date' : date,\n",
    "                'title' : title,\n",
    "                'summary' : summary})\n",
    "        except:\n",
    "            pass\n",
    "    return news_list\n",
    "\n",
    "videos = process_data(articles_v)\n",
    "texts = process_data(articles_t)\n",
    "\n",
    "if len(texts) != 0:\n",
    "    for adict in texts:\n",
    "        videos.append(adict)\n",
    "print(len(videos))"
   ]
  },
  {
   "cell_type": "code",
   "execution_count": 12,
   "metadata": {},
   "outputs": [],
   "source": [
    "# 每日新聞數量\n",
    "start = datetime.datetime(2018, 5, 1)\n",
    "end = datetime.datetime.today()\n",
    "step = datetime.timedelta(days=1)\n",
    "\n",
    "\n",
    "timeSeries = {}\n",
    "while start < end:\n",
    "    timeSeries[start.strftime('%Y-%m-%d')] = 0\n",
    "    start += step\n",
    "#print(timeSeries)\n",
    "\n",
    "for news in videos:\n",
    "    if news['date'] in timeSeries:\n",
    "        timeSeries[news['date']] += 1\n",
    "#print(timeSeries)"
   ]
  },
  {
   "cell_type": "code",
   "execution_count": 13,
   "metadata": {},
   "outputs": [
    {
     "data": {
      "text/html": [
       "<div>\n",
       "<style scoped>\n",
       "    .dataframe tbody tr th:only-of-type {\n",
       "        vertical-align: middle;\n",
       "    }\n",
       "\n",
       "    .dataframe tbody tr th {\n",
       "        vertical-align: top;\n",
       "    }\n",
       "\n",
       "    .dataframe thead th {\n",
       "        text-align: right;\n",
       "    }\n",
       "</style>\n",
       "<table border=\"1\" class=\"dataframe\">\n",
       "  <thead>\n",
       "    <tr style=\"text-align: right;\">\n",
       "      <th></th>\n",
       "      <th>date</th>\n",
       "      <th>title</th>\n",
       "      <th>summary</th>\n",
       "    </tr>\n",
       "  </thead>\n",
       "  <tbody>\n",
       "    <tr>\n",
       "      <th>0</th>\n",
       "      <td>2019-04-09</td>\n",
       "      <td>Spotlight: Brexit Drama</td>\n",
       "      <td>… that will determine the fate of Brexit.\\n\\nP...</td>\n",
       "    </tr>\n",
       "    <tr>\n",
       "      <th>1</th>\n",
       "      <td>2018-05-26</td>\n",
       "      <td>The Brexit Lectures: Series 1: Nick Clegg on B...</td>\n",
       "      <td>… a lecture on the future of Brexit, from Mond...</td>\n",
       "    </tr>\n",
       "    <tr>\n",
       "      <th>2</th>\n",
       "      <td>2018-05-05</td>\n",
       "      <td>The Brexit Lectures: Series 1: Liam Fox on Brexit</td>\n",
       "      <td>… of Brexit, from Monday 30 April.…</td>\n",
       "    </tr>\n",
       "    <tr>\n",
       "      <th>3</th>\n",
       "      <td>2019-04-30</td>\n",
       "      <td>Welsh Assembly: Brexit Statement</td>\n",
       "      <td>…Brexit Minister Jeremy Miles making a stateme...</td>\n",
       "    </tr>\n",
       "    <tr>\n",
       "      <th>4</th>\n",
       "      <td>2019-04-12</td>\n",
       "      <td>Brexit Party Campaign Launch</td>\n",
       "      <td>…Leader of the Brexit Party Nigel Farage MEP l...</td>\n",
       "    </tr>\n",
       "  </tbody>\n",
       "</table>\n",
       "</div>"
      ],
      "text/plain": [
       "         date                                              title  \\\n",
       "0  2019-04-09                            Spotlight: Brexit Drama   \n",
       "1  2018-05-26  The Brexit Lectures: Series 1: Nick Clegg on B...   \n",
       "2  2018-05-05  The Brexit Lectures: Series 1: Liam Fox on Brexit   \n",
       "3  2019-04-30                   Welsh Assembly: Brexit Statement   \n",
       "4  2019-04-12                       Brexit Party Campaign Launch   \n",
       "\n",
       "                                             summary  \n",
       "0  … that will determine the fate of Brexit.\\n\\nP...  \n",
       "1  … a lecture on the future of Brexit, from Mond...  \n",
       "2                … of Brexit, from Monday 30 April.…  \n",
       "3  …Brexit Minister Jeremy Miles making a stateme...  \n",
       "4  …Leader of the Brexit Party Nigel Farage MEP l...  "
      ]
     },
     "execution_count": 13,
     "metadata": {},
     "output_type": "execute_result"
    }
   ],
   "source": [
    "import pandas as pd\n",
    "pd.DataFrame(videos)[['date', 'title', 'summary']].head()"
   ]
  },
  {
   "cell_type": "code",
   "execution_count": 14,
   "metadata": {},
   "outputs": [
    {
     "data": {
      "text/plain": [
       "<Figure size 864x432 with 0 Axes>"
      ]
     },
     "metadata": {},
     "output_type": "display_data"
    },
    {
     "data": {
      "image/png": "[encoded data removed]",
      "text/plain": [
       "<Figure size 432x288 with 1 Axes>"
      ]
     },
     "metadata": {
      "needs_background": "light"
     },
     "output_type": "display_data"
    }
   ],
   "source": [
    "%matplotlib inline\n",
    "import matplotlib.pyplot as plt\n",
    "import matplotlib.ticker as ticker\n",
    "\n",
    "\n",
    "def barplot(x, y,x_label=\"\", y_label=\"\", title=\"\"): \n",
    "    _, ax = plt.subplots()\n",
    "    \n",
    "    ax.bar(x,y, color=\"#7EB09B\", align = 'center')\n",
    "    ax.set_xlabel(x_label)\n",
    "    ax.set_ylabel(y_label)\n",
    "    ax.set_title(title)\n",
    "    ax.xaxis.set_major_locator(ticker.MultipleLocator(30))\n",
    "    plt.setp(ax.get_xticklabels(), rotation=70, horizontalalignment='right')\n",
    "\n",
    "\n",
    "fig = plt.figure(figsize = (12, 6))\n",
    "barplot(timeSeries.keys(), timeSeries.values(), x_label = 'Date', y_label = 'News Number', title = 'Events Frequency')"
   ]
  },
  {
   "cell_type": "markdown",
   "metadata": {},
   "source": [
    "由上圖可發現2019年的新聞佔了絕大多數(247/300)，判斷可能因為即時性而被網站篩選掉，為避免分析因此產生偏頗，所以接下來會針對2019年後的資料進行短期分析。"
   ]
  },
  {
   "cell_type": "code",
   "execution_count": 15,
   "metadata": {},
   "outputs": [
    {
     "data": {
      "text/plain": [
       "<Figure size 864x432 with 0 Axes>"
      ]
     },
     "metadata": {},
     "output_type": "display_data"
    },
    {
     "data": {
      "image/png": "[encoded data removed]",
      "text/plain": [
       "<Figure size 432x288 with 1 Axes>"
      ]
     },
     "metadata": {
      "needs_background": "light"
     },
     "output_type": "display_data"
    }
   ],
   "source": [
    "#短期分析：只針對2019年的新聞\n",
    "start = datetime.datetime(2019, 1, 1)\n",
    "end = datetime.datetime.today()\n",
    "step = datetime.timedelta(days=1)\n",
    "\n",
    "\n",
    "timeSeries = {}\n",
    "while start < end:\n",
    "    timeSeries[start.strftime('%Y-%m-%d')] = 0\n",
    "    start += step\n",
    "#print(timeSeries)\n",
    "\n",
    "for news in videos:\n",
    "    if news['date'] in timeSeries:\n",
    "        timeSeries[news['date']] += 1\n",
    "#print(timeSeries)\n",
    "\n",
    "fig = plt.figure(figsize = (12, 6))\n",
    "barplot(timeSeries.keys(), timeSeries.values(), x_label = 'Date', y_label = 'News Number', title = 'Events Frequency')"
   ]
  }
 ],
 "metadata": {
  "kernelspec": {
   "display_name": "Python 3",
   "language": "python",
   "name": "python3"
  },
  "language_info": {
   "codemirror_mode": {
    "name": "ipython",
    "version": 3
   },
   "file_extension": ".py",
   "mimetype": "text/x-python",
   "name": "python",
   "nbconvert_exporter": "python",
   "pygments_lexer": "ipython3",
   "version": "3.6.1"
  }
 },
 "nbformat": 4,
 "nbformat_minor": 2
}
