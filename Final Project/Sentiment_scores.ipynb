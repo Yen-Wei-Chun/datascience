{
 "cells": [
  {
   "cell_type": "markdown",
   "metadata": {},
   "source": [
    "# 計算情緒分數"
   ]
  },
  {
   "cell_type": "markdown",
   "metadata": {},
   "source": [
    "首先讀取Reuters、台灣經濟日報（資料經過翻譯，見translation檔）以及BBC新聞資料"
   ]
  },
  {
   "cell_type": "code",
   "execution_count": 2,
   "metadata": {},
   "outputs": [],
   "source": [
    "import pickle\n",
    "import pandas as pd"
   ]
  },
  {
   "cell_type": "code",
   "execution_count": 3,
   "metadata": {},
   "outputs": [
    {
     "data": {
      "text/html": [
       "<div>\n",
       "<style scoped>\n",
       "    .dataframe tbody tr th:only-of-type {\n",
       "        vertical-align: middle;\n",
       "    }\n",
       "\n",
       "    .dataframe tbody tr th {\n",
       "        vertical-align: top;\n",
       "    }\n",
       "\n",
       "    .dataframe thead th {\n",
       "        text-align: right;\n",
       "    }\n",
       "</style>\n",
       "<table border=\"1\" class=\"dataframe\">\n",
       "  <thead>\n",
       "    <tr style=\"text-align: right;\">\n",
       "      <th></th>\n",
       "      <th>date</th>\n",
       "      <th>title</th>\n",
       "      <th>summary</th>\n",
       "      <th>content</th>\n",
       "    </tr>\n",
       "  </thead>\n",
       "  <tbody>\n",
       "    <tr>\n",
       "      <th>0</th>\n",
       "      <td>2018-09-18 08:24:00</td>\n",
       "      <td>China will use trade war with US to replace im...</td>\n",
       "      <td>... measures\" the United States is taking in t...</td>\n",
       "      <td>SHANGHAI, Sept 19 (Reuters) - China is not afr...</td>\n",
       "    </tr>\n",
       "    <tr>\n",
       "      <th>1</th>\n",
       "      <td>2019-05-13 04:28:00</td>\n",
       "      <td>US STOCKS-Wall St shudders as U.S.-China trade...</td>\n",
       "      <td>... belligerent\\ntrade war, sending investors ...</td>\n",
       "      <td>NEW YORK (Reuters) - Wall Street sank on Monda...</td>\n",
       "    </tr>\n",
       "    <tr>\n",
       "      <th>2</th>\n",
       "      <td>2019-05-13 02:38:00</td>\n",
       "      <td>US STOCKS-Wall St dives as U.S.-China trade wa...</td>\n",
       "      <td>.../ in a news window)\\n* China to impose tari...</td>\n",
       "      <td>(For a live blog on the U.S. stock market, cli...</td>\n",
       "    </tr>\n",
       "    <tr>\n",
       "      <th>3</th>\n",
       "      <td>2018-10-12 04:02:00</td>\n",
       "      <td>Lenders brace for trade war</td>\n",
       "      <td>...-China trade war intensifies, dealing a\\nfu...</td>\n",
       "      <td>* Loans: Business from China to take further h...</td>\n",
       "    </tr>\n",
       "    <tr>\n",
       "      <th>4</th>\n",
       "      <td>2018-09-07 03:07:00</td>\n",
       "      <td>Australian, NZ shares fall on worries US-China...</td>\n",
       "      <td>..., partly because of the\\npossibility the U....</td>\n",
       "      <td>* Australian shares have worst week since Febr...</td>\n",
       "    </tr>\n",
       "  </tbody>\n",
       "</table>\n",
       "</div>"
      ],
      "text/plain": [
       "                 date                                              title  \\\n",
       "0 2018-09-18 08:24:00  China will use trade war with US to replace im...   \n",
       "1 2019-05-13 04:28:00  US STOCKS-Wall St shudders as U.S.-China trade...   \n",
       "2 2019-05-13 02:38:00  US STOCKS-Wall St dives as U.S.-China trade wa...   \n",
       "3 2018-10-12 04:02:00                        Lenders brace for trade war   \n",
       "4 2018-09-07 03:07:00  Australian, NZ shares fall on worries US-China...   \n",
       "\n",
       "                                             summary  \\\n",
       "0  ... measures\" the United States is taking in t...   \n",
       "1  ... belligerent\\ntrade war, sending investors ...   \n",
       "2  .../ in a news window)\\n* China to impose tari...   \n",
       "3  ...-China trade war intensifies, dealing a\\nfu...   \n",
       "4  ..., partly because of the\\npossibility the U....   \n",
       "\n",
       "                                             content  \n",
       "0  SHANGHAI, Sept 19 (Reuters) - China is not afr...  \n",
       "1  NEW YORK (Reuters) - Wall Street sank on Monda...  \n",
       "2  (For a live blog on the U.S. stock market, cli...  \n",
       "3  * Loans: Business from China to take further h...  \n",
       "4  * Australian shares have worst week since Febr...  "
      ]
     },
     "execution_count": 3,
     "metadata": {},
     "output_type": "execute_result"
    }
   ],
   "source": [
    "with open('Reuters_news.pickle', 'rb') as file:\n",
    "    news_data = pickle.load(file)\n",
    "\n",
    "news_datafr = pd.DataFrame(news_data)[['date', 'title', 'summary', 'content']]\n",
    "news_datafr.head()"
   ]
  },
  {
   "cell_type": "code",
   "execution_count": 4,
   "metadata": {},
   "outputs": [],
   "source": [
    "with open('money_news.pickle', 'rb') as file:\n",
    "    news_data = pickle.load(file)\n",
    "\n",
    "Mnews_datafr = pd.DataFrame(news_data)[['date', 'title', 'summary']]"
   ]
  },
  {
   "cell_type": "code",
   "execution_count": 5,
   "metadata": {},
   "outputs": [],
   "source": [
    "with open('bbc_tradewar.bin', 'rb') as file:\n",
    "    bbc_data = pickle.load(file)\n",
    "\n",
    "bbc_datafr = pd.DataFrame(bbc_data)[['time', 'title', 'summary', 'doc']]\n",
    "bbc_datafr.columns = ['date', 'title', 'summary', 'content']"
   ]
  },
  {
   "cell_type": "markdown",
   "metadata": {},
   "source": [
    "讀取經過處理的字串（見wrds_processing檔）"
   ]
  },
  {
   "cell_type": "code",
   "execution_count": null,
   "metadata": {},
   "outputs": [],
   "source": [
    "with open('RNews_wrds.pickle', 'rb') as file:\n",
    "    reuters_filtered_lst = pickle.load(file)"
   ]
  },
  {
   "cell_type": "code",
   "execution_count": 5,
   "metadata": {},
   "outputs": [],
   "source": [
    "with open('Money_wrds.pickle', 'rb') as file:\n",
    "    money_filtered_lst = pickle.load(file)"
   ]
  },
  {
   "cell_type": "code",
   "execution_count": 6,
   "metadata": {},
   "outputs": [],
   "source": [
    "with open('BBC_wrds.pickle', 'rb') as file:\n",
    "    bbc_filtered_lst = pickle.load(file)"
   ]
  },
  {
   "cell_type": "markdown",
   "metadata": {},
   "source": [
    "計算情緒分數，依照單詞 >> 句子 >> 新聞順序進行"
   ]
  },
  {
   "cell_type": "code",
   "execution_count": 9,
   "metadata": {},
   "outputs": [],
   "source": [
    "from vaderSentiment.vaderSentiment import SentimentIntensityAnalyzer\n",
    "analyser = SentimentIntensityAnalyzer()"
   ]
  },
  {
   "cell_type": "code",
   "execution_count": 10,
   "metadata": {},
   "outputs": [],
   "source": [
    "def sentiment_analyzer_scores(words):\n",
    "    score = analyser.polarity_scores(words)\n",
    "    return words, score\n",
    "\n",
    "def total_scores(score_lst): #arg : a list of many dict\n",
    "    scores_lst = []\n",
    "    neg = 0\n",
    "    neu = 0\n",
    "    pos = 0\n",
    "    compound = 0\n",
    "    for i in range(len(score_lst)):\n",
    "        neg += score_lst[i]['neg']\n",
    "        neu += score_lst[i]['neu']\n",
    "        pos += score_lst[i]['pos']\n",
    "        compound += score_lst[i]['compound']\n",
    "    scores_lst.append({\n",
    "        'neg' : neg,\n",
    "        'neu' : neu,\n",
    "        'pos' : pos,\n",
    "        'compound' : compound\n",
    "    })\n",
    "    \n",
    "    return scores_lst"
   ]
  },
  {
   "cell_type": "code",
   "execution_count": 11,
   "metadata": {},
   "outputs": [
    {
     "name": "stdout",
     "output_type": "stream",
     "text": [
      "636\n"
     ]
    }
   ],
   "source": [
    "reuters_total_score_lst = []\n",
    "for i in range(len(reuters_filtered_lst)): # len(filtered_lst) = 636, numbers of news = 636\n",
    "    #print(i)\n",
    "    news_score = []\n",
    "    for j in range(len(reuters_filtered_lst[i])):\n",
    "        #print(j, len(filtered_lst[i]))\n",
    "        sent_score = []\n",
    "        for wrds in reuters_filtered_lst[i][j]:\n",
    "            scores = sentiment_analyzer_scores(wrds)\n",
    "            #print('wrds:', scores)\n",
    "            sent_score.append(scores[1]) #一則新聞的一句單詞分數\n",
    "        #print('sent:', sent_score)\n",
    "        sent_ttl_score = total_scores(sent_score) #回傳一句的總分數(list)\n",
    "        news_score.append(sent_ttl_score) #存每一則新聞的所有句子分數\n",
    "    #print('news:', news_score)\n",
    "    reuters_total_score_lst.append(news_score) #存所有的新聞(共636則)\n",
    "print(len(reuters_total_score_lst))\n",
    "        "
   ]
  },
  {
   "cell_type": "code",
   "execution_count": 12,
   "metadata": {},
   "outputs": [
    {
     "name": "stdout",
     "output_type": "stream",
     "text": [
      "346\n",
      "[[{'neg': 3.0, 'neu': 31.0, 'pos': 1.0, 'compound': -1.163}], [{'neg': 1.0, 'neu': 6.0, 'pos': 0.0, 'compound': -0.3182}], [{'neg': 1.0, 'neu': 12.0, 'pos': 0.0, 'compound': -0.3818}], [{'neg': 2.0, 'neu': 14.0, 'pos': 1.0, 'compound': -0.514}], [{'neg': 0.0, 'neu': 15.0, 'pos': 4.0, 'compound': 1.2989}], [{'neg': 2.0, 'neu': 17.0, 'pos': 0.0, 'compound': -0.8167}], [{'neg': 1.0, 'neu': 35.0, 'pos': 5.0, 'compound': 1.3854000000000002}], [{'neg': 0.0, 'neu': 6.0, 'pos': 0.0, 'compound': 0.0}], [{'neg': 1.0, 'neu': 21.0, 'pos': 1.0, 'compound': -0.08800000000000002}], [{'neg': 1.0, 'neu': 16.0, 'pos': 0.0, 'compound': -0.4767}], [{'neg': 1.0, 'neu': 10.0, 'pos': 1.0, 'compound': -0.39869999999999994}], [{'neg': 1.0, 'neu': 38.0, 'pos': 0.0, 'compound': -0.5994}], [{'neg': 0.0, 'neu': 9.0, 'pos': 0.0, 'compound': 0.0}], [{'neg': 0.0, 'neu': 16.0, 'pos': 0.0, 'compound': 0.0}], [{'neg': 1.0, 'neu': 9.0, 'pos': 1.0, 'compound': 0.2537}]]\n"
     ]
    }
   ],
   "source": [
    "bbc_total_score_lst = []\n",
    "for i in range(len(bbc_filtered_lst)): # len(filtered_lst) = 636, numbers of news = 636\n",
    "    #print(i)\n",
    "    news_score = []\n",
    "    for j in range(len(bbc_filtered_lst[i])):\n",
    "        #print(j, len(filtered_lst[i]))\n",
    "        sent_score = []\n",
    "        for wrds in bbc_filtered_lst[i][j]:\n",
    "            scores = sentiment_analyzer_scores(wrds)\n",
    "            #print('wrds:', scores)\n",
    "            sent_score.append(scores[1]) #一則新聞的一句單詞分數\n",
    "        #print('sent:', sent_score)\n",
    "        sent_ttl_score = total_scores(sent_score) #回傳一句的總分數(list)\n",
    "        news_score.append(sent_ttl_score) #存每一則新聞的所有句子分數\n",
    "    #print('news:', news_score)\n",
    "    bbc_total_score_lst.append(news_score) #存所有的新聞(共636則)\n",
    "print(len(bbc_total_score_lst))\n",
    "print(bbc_total_score_lst[0])        "
   ]
  },
  {
   "cell_type": "code",
   "execution_count": 13,
   "metadata": {},
   "outputs": [
    {
     "name": "stdout",
     "output_type": "stream",
     "text": [
      "[{'neg': 2.0, 'neu': 36.0, 'pos': 1.0, 'compound': -0.6462}]\n",
      "3083\n"
     ]
    }
   ],
   "source": [
    "money_total_score_lst = [] #存每則新聞的分數\n",
    "for i in range(len(money_filtered_lst)): #(len(money_filtered_lst) = 3083\n",
    "    news_score = []\n",
    "    for wrds in money_filtered_lst[i]:\n",
    "        scores = sentiment_analyzer_scores(wrds)\n",
    "        #print('wrds:', scores)\n",
    "        news_score.append(scores[1]) #每則新聞下每個單詞的分數\n",
    "    news_ttl_score = total_scores(news_score)\n",
    "    money_total_score_lst.append(news_ttl_score) \n",
    "print(money_total_score_lst[0])\n",
    "print(len(money_total_score_lst))"
   ]
  },
  {
   "cell_type": "code",
   "execution_count": 14,
   "metadata": {},
   "outputs": [
    {
     "data": {
      "text/plain": [
       "[[{'neg': 1.0, 'neu': 22.0, 'pos': 3.0, 'compound': 0.6254}],\n",
       " [{'neg': 0.0, 'neu': 13.0, 'pos': 1.0, 'compound': 0.4019}],\n",
       " [{'neg': 1.0, 'neu': 28.0, 'pos': 1.0, 'compound': -0.37310000000000004}],\n",
       " [{'neg': 1.0, 'neu': 9.0, 'pos': 1.0, 'compound': -0.32620000000000005}],\n",
       " [{'neg': 1.0, 'neu': 19.0, 'pos': 3.0, 'compound': 0.7573}],\n",
       " [{'neg': 1.0, 'neu': 20.0, 'pos': 2.0, 'compound': 0.011799999999999977}],\n",
       " [{'neg': 2.0, 'neu': 18.0, 'pos': 2.0, 'compound': 0.2746}],\n",
       " [{'neg': 1.0, 'neu': 22.0, 'pos': 2.0, 'compound': 0.5048999999999999}],\n",
       " [{'neg': 1.0, 'neu': 14.0, 'pos': 0.0, 'compound': -0.128}],\n",
       " [{'neg': 0.0, 'neu': 12.0, 'pos': 1.0, 'compound': 0.1779}],\n",
       " [{'neg': 2.0, 'neu': 5.0, 'pos': 0.0, 'compound': -0.6142}],\n",
       " [{'neg': 0.0, 'neu': 10.0, 'pos': 3.0, 'compound': 0.6369}],\n",
       " [{'neg': 0.0, 'neu': 6.0, 'pos': 0.0, 'compound': 0.0}]]"
      ]
     },
     "execution_count": 14,
     "metadata": {},
     "output_type": "execute_result"
    }
   ],
   "source": [
    "reuters_total_score_lst[0] # 第一則新聞的分數（每個小list為一句的分數）"
   ]
  },
  {
   "cell_type": "code",
   "execution_count": 15,
   "metadata": {},
   "outputs": [
    {
     "data": {
      "text/plain": [
       "[{'neg': 11.0, 'pos': 19.0, 'neu': 198.0, 'compound': 1.9491999999999996},\n",
       " {'neg': 27.0, 'pos': 12.0, 'neu': 332.0, 'compound': -4.3679},\n",
       " {'neg': 28.0, 'pos': 14.0, 'neu': 377.0, 'compound': -3.2401},\n",
       " {'neg': 31.0, 'pos': 27.0, 'neu': 457.0, 'compound': -3.0700999999999996},\n",
       " {'neg': 14.0, 'pos': 9.0, 'neu': 234.0, 'compound': -3.2571},\n",
       " {'neg': 19.0, 'pos': 14.0, 'neu': 135.0, 'compound': -4.0654},\n",
       " {'neg': 23.0, 'pos': 19.0, 'neu': 334.0, 'compound': -3.1654999999999993},\n",
       " {'neg': 15.0, 'pos': 18.0, 'neu': 219.0, 'compound': 0.16970000000000007},\n",
       " {'neg': 2.0, 'pos': 1.0, 'neu': 44.0, 'compound': -0.49080000000000007},\n",
       " {'neg': 7.0, 'pos': 7.0, 'neu': 211.0, 'compound': 0.6632000000000001},\n",
       " {'neg': 36.0, 'pos': 41.0, 'neu': 810.0, 'compound': 0.03489999999999954},\n",
       " {'neg': 36.0, 'pos': 41.0, 'neu': 810.0, 'compound': 0.03489999999999954},\n",
       " {'neg': 57.0, 'pos': 38.0, 'neu': 869.0, 'compound': -8.053500000000001},\n",
       " {'neg': 57.0, 'pos': 38.0, 'neu': 869.0, 'compound': -8.053500000000001},\n",
       " {'neg': 20.0, 'pos': 12.0, 'neu': 227.0, 'compound': -4.102900000000001},\n",
       " {'neg': 9.0, 'pos': 15.0, 'neu': 108.0, 'compound': 1.5461},\n",
       " {'neg': 57.0, 'pos': 38.0, 'neu': 869.0, 'compound': -8.053500000000001},\n",
       " {'neg': 28.0, 'pos': 17.0, 'neu': 312.0, 'compound': -4.6168},\n",
       " {'neg': 24.0, 'pos': 14.0, 'neu': 224.0, 'compound': -4.555},\n",
       " {'neg': 23.0, 'pos': 26.0, 'neu': 409.0, 'compound': -0.4217999999999998},\n",
       " {'neg': 23.0, 'pos': 26.0, 'neu': 411.0, 'compound': -0.4217999999999998},\n",
       " {'neg': 31.0, 'pos': 31.0, 'neu': 382.0, 'compound': -1.1467},\n",
       " {'neg': 3.0, 'pos': 3.0, 'neu': 51.0, 'compound': 0.052499999999999936},\n",
       " {'neg': 13.0, 'pos': 17.0, 'neu': 250.0, 'compound': 1.1483999999999996},\n",
       " {'neg': 36.0, 'pos': 41.0, 'neu': 810.0, 'compound': 0.03489999999999954},\n",
       " {'neg': 2.0, 'pos': 2.0, 'neu': 51.0, 'compound': 0.1522999999999999},\n",
       " {'neg': 25.0, 'pos': 20.0, 'neu': 332.0, 'compound': -2.374599999999999},\n",
       " {'neg': 10.0, 'pos': 5.0, 'neu': 108.0, 'compound': -3.0483000000000002},\n",
       " {'neg': 10.0, 'pos': 14.0, 'neu': 219.0, 'compound': 0.9407999999999996},\n",
       " {'neg': 10.0, 'pos': 5.0, 'neu': 108.0, 'compound': -3.0483000000000002}]"
      ]
     },
     "execution_count": 15,
     "metadata": {},
     "output_type": "execute_result"
    }
   ],
   "source": [
    "# calculate scores of every news\n",
    "news_sentiment_score = []\n",
    "for i in range(len(reuters_total_score_lst)):\n",
    "    neg = 0\n",
    "    neu = 0\n",
    "    pos = 0\n",
    "    compound = 0\n",
    "    for j in range(len(reuters_total_score_lst[i])):\n",
    "        neg += reuters_total_score_lst[i][j][0]['neg']\n",
    "        neu += reuters_total_score_lst[i][j][0]['neu']\n",
    "        pos += reuters_total_score_lst[i][j][0]['pos']\n",
    "        compound +=  reuters_total_score_lst[i][j][0]['compound']\n",
    "    news_sentiment_score.append({\n",
    "        'neg' : neg,\n",
    "        'pos' : pos,\n",
    "        'neu' : neu,\n",
    "        'compound' : compound\n",
    "    })\n",
    "news_sentiment_score[:30]  #每一則新聞的正負面分數"
   ]
  },
  {
   "cell_type": "code",
   "execution_count": 16,
   "metadata": {},
   "outputs": [
    {
     "data": {
      "text/plain": [
       "[{'neg': 15.0, 'pos': 14.0, 'neu': 255.0, 'compound': -1.8184999999999996},\n",
       " {'neg': 19.0, 'pos': 5.0, 'neu': 195.0, 'compound': -5.7379999999999995},\n",
       " {'neg': 21.0, 'pos': 21.0, 'neu': 387.0, 'compound': -2.0140999999999996},\n",
       " {'neg': 0, 'pos': 0, 'neu': 0, 'compound': 0},\n",
       " {'neg': 18.0, 'pos': 17.0, 'neu': 179.0, 'compound': -0.6327000000000005},\n",
       " {'neg': 10.0, 'pos': 18.0, 'neu': 291.0, 'compound': 3.2263000000000006},\n",
       " {'neg': 5.0, 'pos': 2.0, 'neu': 52.0, 'compound': -1.1161},\n",
       " {'neg': 33.0, 'pos': 31.0, 'neu': 446.0, 'compound': -3.8404000000000003},\n",
       " {'neg': 4.0, 'pos': 7.0, 'neu': 74.0, 'compound': 0.3247999999999999},\n",
       " {'neg': 11.0, 'pos': 14.0, 'neu': 181.0, 'compound': 1.3133000000000001},\n",
       " {'neg': 13.0, 'pos': 13.0, 'neu': 181.0, 'compound': 0.06610000000000005},\n",
       " {'neg': 31.0, 'pos': 24.0, 'neu': 446.0, 'compound': -1.0672000000000004},\n",
       " {'neg': 18.0, 'pos': 13.0, 'neu': 265.0, 'compound': -2.7946000000000004},\n",
       " {'neg': 30.0, 'pos': 22.0, 'neu': 339.0, 'compound': -3.8875000000000006},\n",
       " {'neg': 5.0, 'pos': 5.0, 'neu': 49.0, 'compound': 0.1307999999999998},\n",
       " {'neg': 8.0, 'pos': 8.0, 'neu': 174.0, 'compound': 0.8372000000000002},\n",
       " {'neg': 35.0, 'pos': 25.0, 'neu': 462.0, 'compound': -4.834500000000001},\n",
       " {'neg': 17.0, 'pos': 9.0, 'neu': 221.0, 'compound': -3.1904000000000003},\n",
       " {'neg': 36.0, 'pos': 30.0, 'neu': 535.0, 'compound': -5.033699999999999},\n",
       " {'neg': 1.0, 'pos': 2.0, 'neu': 48.0, 'compound': 0.007099999999999995},\n",
       " {'neg': 1.0, 'pos': 8.0, 'neu': 136.0, 'compound': 1.5165},\n",
       " {'neg': 1.0, 'pos': 5.0, 'neu': 74.0, 'compound': 1.1569999999999998},\n",
       " {'neg': 1.0, 'pos': 0.0, 'neu': 24.0, 'compound': -0.128},\n",
       " {'neg': 4.0, 'pos': 6.0, 'neu': 63.0, 'compound': 0.45890000000000003},\n",
       " {'neg': 4.0, 'pos': 6.0, 'neu': 66.0, 'compound': 0.45890000000000003},\n",
       " {'neg': 25.0, 'pos': 14.0, 'neu': 336.0, 'compound': -3.5831},\n",
       " {'neg': 16.0, 'pos': 32.0, 'neu': 264.0, 'compound': 6.3867},\n",
       " {'neg': 1.0, 'pos': 2.0, 'neu': 30.0, 'compound': 0.3411},\n",
       " {'neg': 31.0, 'pos': 17.0, 'neu': 271.0, 'compound': -7.198800000000001},\n",
       " {'neg': 3.0, 'pos': 6.0, 'neu': 80.0, 'compound': 0.9705999999999999}]"
      ]
     },
     "execution_count": 16,
     "metadata": {},
     "output_type": "execute_result"
    }
   ],
   "source": [
    "# calculate scores of every news\n",
    "bbc_news_sentiment_score = []\n",
    "for i in range(len(bbc_total_score_lst)):\n",
    "    neg = 0\n",
    "    neu = 0\n",
    "    pos = 0\n",
    "    compound = 0\n",
    "    for j in range(len(bbc_total_score_lst[i])):\n",
    "        neg += bbc_total_score_lst[i][j][0]['neg']\n",
    "        neu += bbc_total_score_lst[i][j][0]['neu']\n",
    "        pos += bbc_total_score_lst[i][j][0]['pos']\n",
    "        compound +=  bbc_total_score_lst[i][j][0]['compound']\n",
    "    bbc_news_sentiment_score.append({\n",
    "        'neg' : neg,\n",
    "        'pos' : pos,\n",
    "        'neu' : neu,\n",
    "        'compound' : compound\n",
    "    })\n",
    "bbc_news_sentiment_score[:30]  #每一則新聞的正負面分數"
   ]
  },
  {
   "cell_type": "code",
   "execution_count": 17,
   "metadata": {},
   "outputs": [
    {
     "data": {
      "text/plain": [
       "[8.0, -15.0, -14.0, -4.0, -5.0, -5.0, -4.0, 3.0, -1.0, 0.0]"
      ]
     },
     "execution_count": 17,
     "metadata": {},
     "output_type": "execute_result"
    }
   ],
   "source": [
    "reuters_news_final = [] #每則新聞的總分數（正面-負面）\n",
    "for i in range(len(news_sentiment_score)):\n",
    "    final_score = news_sentiment_score[i]['pos'] -  news_sentiment_score[i]['neg']\n",
    "    reuters_news_final.append(final_score)\n",
    "reuters_news_final[:10]"
   ]
  },
  {
   "cell_type": "code",
   "execution_count": 18,
   "metadata": {},
   "outputs": [
    {
     "data": {
      "text/plain": [
       "[-1.0, -14.0, 0.0, 0, -1.0, 8.0, -3.0, -2.0, 3.0, 3.0]"
      ]
     },
     "execution_count": 18,
     "metadata": {},
     "output_type": "execute_result"
    }
   ],
   "source": [
    "bbc_news_final = [] #每則新聞的總分數（正面-負面）\n",
    "for i in range(len(bbc_news_sentiment_score)):\n",
    "    final_score = bbc_news_sentiment_score[i]['pos'] -  bbc_news_sentiment_score[i]['neg']\n",
    "    bbc_news_final.append(final_score)\n",
    "bbc_news_final[:10]"
   ]
  },
  {
   "cell_type": "code",
   "execution_count": 19,
   "metadata": {},
   "outputs": [
    {
     "data": {
      "text/plain": [
       "[-1.0, 0.0, 0.0, 1.0, 1.0, -4.0, 4.0, 4.0, -1.0, 2.0]"
      ]
     },
     "execution_count": 19,
     "metadata": {},
     "output_type": "execute_result"
    }
   ],
   "source": [
    "money_news_final = []\n",
    "for i in range(len(money_total_score_lst)):\n",
    "    final_score = money_total_score_lst[i][0]['pos'] - money_total_score_lst[i][0]['neg']\n",
    "    money_news_final.append(final_score)\n",
    "money_news_final[:10]"
   ]
  },
  {
   "cell_type": "markdown",
   "metadata": {},
   "source": [
    "# 每日情緒分數"
   ]
  },
  {
   "cell_type": "markdown",
   "metadata": {},
   "source": [
    "前面的檔案僅是針對每則新聞計算出的分數，尚未對應日期，以下進行兩個步驟：\n",
    "1. 將每則新聞分數對應回發生的日期\n",
    "2. 合併相同日期的分數"
   ]
  },
  {
   "cell_type": "code",
   "execution_count": 21,
   "metadata": {},
   "outputs": [],
   "source": [
    "import datetime\n",
    "\n",
    "def date_score(news_final, datafr):\n",
    "    date_score_lst = []\n",
    "\n",
    "    for j in range(len(news_final)):\n",
    "        \n",
    "        if type(datafr['date'][j]) is str:\n",
    "            try:\n",
    "                newdate = datetime.datetime.strptime(datafr['date'][j], '%Y/%m/%d %H:%M:%S')\n",
    "            except:\n",
    "                newdate = datetime.datetime.strptime(datafr['date'][j], '%d %b %Y')\n",
    "            date_score_lst.append({\n",
    "            'date' : newdate,\n",
    "            'score' : news_final[j]\n",
    "        })\n",
    "        else:\n",
    "            date_score_lst.append({\n",
    "            'date' : datafr['date'][j],\n",
    "            'score' : news_final[j]\n",
    "            })\n",
    "    return date_score_lst\n",
    "\n",
    "Rdate_score = date_score(reuters_news_final, news_datafr)\n",
    "Mdate_score = date_score(money_news_final, Mnews_datafr)\n",
    "Bdate_score = date_score(bbc_news_final, bbc_datafr)"
   ]
  },
  {
   "cell_type": "markdown",
   "metadata": {},
   "source": [
    "依照日期排序"
   ]
  },
  {
   "cell_type": "code",
   "execution_count": 22,
   "metadata": {},
   "outputs": [],
   "source": [
    "Rsort_date_score = sorted(Rdate_score, key = lambda x: x['date']) \n",
    "Msort_date_score = sorted(Mdate_score, key = lambda x: x['date']) \n",
    "Bsort_date_score = sorted(Bdate_score, key = lambda x: x['date'])"
   ]
  },
  {
   "cell_type": "markdown",
   "metadata": {},
   "source": [
    "合併所有排序過日期的新聞"
   ]
  },
  {
   "cell_type": "code",
   "execution_count": 6,
   "metadata": {},
   "outputs": [
    {
     "ename": "NameError",
     "evalue": "name 'Rsort_date_score' is not defined",
     "output_type": "error",
     "traceback": [
      "\u001b[0;31m---------------------------------------------------------------------------\u001b[0m",
      "\u001b[0;31mNameError\u001b[0m                                 Traceback (most recent call last)",
      "\u001b[0;32m<ipython-input-6-3f650d9284ef>\u001b[0m in \u001b[0;36m<module>\u001b[0;34m\u001b[0m\n\u001b[0;32m----> 1\u001b[0;31m \u001b[0mBigList\u001b[0m \u001b[0;34m=\u001b[0m \u001b[0mRsort_date_score\u001b[0m \u001b[0;34m+\u001b[0m \u001b[0mMsort_date_score\u001b[0m \u001b[0;34m+\u001b[0m \u001b[0mBsort_date_score\u001b[0m\u001b[0;34m\u001b[0m\u001b[0;34m\u001b[0m\u001b[0m\n\u001b[0m\u001b[1;32m      2\u001b[0m \u001b[0mtemp_lst\u001b[0m \u001b[0;34m=\u001b[0m \u001b[0;34m[\u001b[0m\u001b[0mitem\u001b[0m \u001b[0;32mfor\u001b[0m \u001b[0mitem\u001b[0m \u001b[0;32min\u001b[0m \u001b[0mBigList\u001b[0m \u001b[0;32mif\u001b[0m \u001b[0mitem\u001b[0m\u001b[0;34m[\u001b[0m\u001b[0;34m'date'\u001b[0m\u001b[0;34m]\u001b[0m\u001b[0;34m.\u001b[0m\u001b[0mdate\u001b[0m\u001b[0;34m(\u001b[0m\u001b[0;34m)\u001b[0m \u001b[0;34m>=\u001b[0m \u001b[0mdatetime\u001b[0m\u001b[0;34m.\u001b[0m\u001b[0mdate\u001b[0m\u001b[0;34m(\u001b[0m\u001b[0;36m2018\u001b[0m\u001b[0;34m,\u001b[0m \u001b[0;36m6\u001b[0m\u001b[0;34m,\u001b[0m \u001b[0;36m1\u001b[0m\u001b[0;34m)\u001b[0m\u001b[0;34m]\u001b[0m\u001b[0;34m\u001b[0m\u001b[0;34m\u001b[0m\u001b[0m\n\u001b[1;32m      3\u001b[0m \u001b[0mBigsort_date_score\u001b[0m \u001b[0;34m=\u001b[0m \u001b[0msorted\u001b[0m\u001b[0;34m(\u001b[0m\u001b[0mtemp_lst\u001b[0m\u001b[0;34m,\u001b[0m \u001b[0mkey\u001b[0m \u001b[0;34m=\u001b[0m \u001b[0;32mlambda\u001b[0m \u001b[0mx\u001b[0m \u001b[0;34m:\u001b[0m \u001b[0mx\u001b[0m\u001b[0;34m[\u001b[0m\u001b[0;34m'date'\u001b[0m\u001b[0;34m]\u001b[0m\u001b[0;34m.\u001b[0m\u001b[0mdate\u001b[0m\u001b[0;34m(\u001b[0m\u001b[0;34m)\u001b[0m\u001b[0;34m)\u001b[0m\u001b[0;34m\u001b[0m\u001b[0;34m\u001b[0m\u001b[0m\n",
      "\u001b[0;31mNameError\u001b[0m: name 'Rsort_date_score' is not defined"
     ]
    }
   ],
   "source": [
    "BigList = Rsort_date_score + Msort_date_score + Bsort_date_score\n",
    "temp_lst = [item for item in BigList if item['date'].date() >= datetime.date(2018, 6, 1)]\n",
    "Bigsort_date_score = sorted(temp_lst, key = lambda x : x['date'].date())"
   ]
  },
  {
   "cell_type": "code",
   "execution_count": 39,
   "metadata": {},
   "outputs": [],
   "source": [
    "# 每日對應分數，同日期的新聞合併\n",
    "\n",
    "def combined_score(sort_date_score):\n",
    "    d = {}\n",
    "    \n",
    "    for news in sort_date_score:\n",
    "        if news['date'].date() not in d:\n",
    "            d[news['date'].date()] = news['score']\n",
    "        else:\n",
    "            d[news['date'].date()] += news['score']\n",
    "    return d\n",
    "\n",
    "Rcombined_score = combined_score(Rsort_date_score)\n",
    "Mcombined_score = combined_score(Msort_date_score)\n",
    "Bcombined_score = combined_score(Bsort_date_score)\n",
    "Big_combined_score = combined_score(Bigsort_date_score)"
   ]
  },
  {
   "cell_type": "code",
   "execution_count": 25,
   "metadata": {},
   "outputs": [],
   "source": [
    "%matplotlib inline\n",
    "import matplotlib.pyplot as plt\n",
    "import matplotlib.ticker as ticker\n",
    "\n",
    "def barplot(x, y,x_label=\"\", y_label=\"\", title=\"\"): \n",
    "    _, ax = plt.subplots()\n",
    "    \n",
    "    ax.bar(x,y, color=\"#7EB09B\", align = 'center')\n",
    "    ax.set_xlabel(x_label, fontsize=20)\n",
    "    ax.set_ylabel(y_label, fontsize=20)\n",
    "    ax.set_title(title)\n",
    "    #ax.xaxis.set_major_locator(ticker.MultipleLocator(30))\n",
    "    plt.setp(ax.get_xticklabels(), rotation=70, horizontalalignment='right')\n",
    "\n"
   ]
  },
  {
   "cell_type": "code",
   "execution_count": 26,
   "metadata": {},
   "outputs": [
    {
     "name": "stderr",
     "output_type": "stream",
     "text": [
      "/Users/gillian0531/anaconda3/envs/R-tutorial/lib/python3.7/site-packages/pandas/plotting/_converter.py:129: FutureWarning: Using an implicitly registered datetime converter for a matplotlib plotting method. The converter was registered by pandas on import. Future versions of pandas will require you to explicitly register matplotlib converters.\n",
      "\n",
      "To register the converters:\n",
      "\t>>> from pandas.plotting import register_matplotlib_converters\n",
      "\t>>> register_matplotlib_converters()\n",
      "  warnings.warn(msg, FutureWarning)\n"
     ]
    },
    {
     "data": {
      "text/plain": [
       "<Figure size 864x432 with 0 Axes>"
      ]
     },
     "metadata": {},
     "output_type": "display_data"
    },
    {
     "data": {
      "image/png": "[encoded data removed]",
      "text/plain": [
       "<Figure size 432x288 with 1 Axes>"
      ]
     },
     "metadata": {
      "needs_background": "light"
     },
     "output_type": "display_data"
    }
   ],
   "source": [
    "fig = plt.figure(figsize = (12, 6))\n",
    "barplot(Rcombined_score.keys(), Rcombined_score.values(), x_label = 'Date', y_label = 'Score', title = 'Reuters Scores')"
   ]
  },
  {
   "cell_type": "code",
   "execution_count": 27,
   "metadata": {},
   "outputs": [
    {
     "data": {
      "text/plain": [
       "<Figure size 864x432 with 0 Axes>"
      ]
     },
     "metadata": {},
     "output_type": "display_data"
    },
    {
     "data": {
      "image/png": "[encoded data removed]",
      "text/plain": [
       "<Figure size 432x288 with 1 Axes>"
      ]
     },
     "metadata": {
      "needs_background": "light"
     },
     "output_type": "display_data"
    }
   ],
   "source": [
    "fig = plt.figure(figsize = (12, 6))\n",
    "barplot(Mcombined_score.keys(), Mcombined_score.values(), x_label = 'Date', y_label = 'Score', title = 'Money Scores')"
   ]
  },
  {
   "cell_type": "code",
   "execution_count": 40,
   "metadata": {},
   "outputs": [
    {
     "data": {
      "text/plain": [
       "<Figure size 864x432 with 0 Axes>"
      ]
     },
     "metadata": {},
     "output_type": "display_data"
    },
    {
     "data": {
      "image/png": "[encoded data removed]",
      "text/plain": [
       "<Figure size 432x288 with 1 Axes>"
      ]
     },
     "metadata": {
      "needs_background": "light"
     },
     "output_type": "display_data"
    }
   ],
   "source": [
    "fig = plt.figure(figsize = (12, 6))\n",
    "barplot(Big_combined_score.keys(), Big_combined_score.values(), x_label = 'Date', y_label = 'Score', title = 'Total Scores')"
   ]
  },
  {
   "cell_type": "code",
   "execution_count": 41,
   "metadata": {},
   "outputs": [],
   "source": [
    "import csv\n",
    "\n",
    "with open('Total_score.csv', 'w') as f:\n",
    "    w = csv.writer(f)\n",
    "    w.writerow(['Date', 'Score'])\n",
    "    w.writerows(Big_combined_score.items())"
   ]
  },
  {
   "cell_type": "code",
   "execution_count": 42,
   "metadata": {},
   "outputs": [],
   "source": [
    "import pickle\n",
    "\n",
    "file = open('Total_score.pickle', 'wb')\n",
    "pickle.dump(Big_combined_score, file)\n",
    "file.close()"
   ]
  }
 ],
 "metadata": {
  "kernelspec": {
   "display_name": "Python 3",
   "language": "python",
   "name": "python3"
  },
  "language_info": {
   "codemirror_mode": {
    "name": "ipython",
    "version": 3
   },
   "file_extension": ".py",
   "mimetype": "text/x-python",
   "name": "python",
   "nbconvert_exporter": "python",
   "pygments_lexer": "ipython3",
   "version": "3.7.3"
  }
 },
 "nbformat": 4,
 "nbformat_minor": 2
}
